{
  "cells": [
    {
      "cell_type": "code",
      "execution_count": 15,
      "metadata": {
        "colab": {
          "base_uri": "https://localhost:8080/"
        },
        "id": "E0sWq8MVFkeF",
        "outputId": "1dc55c46-96ca-4f6b-efe6-c35db76bec75"
      },
      "outputs": [
        {
          "name": "stdout",
          "output_type": "stream",
          "text": [
            "Collecting scikit-learn==1.3.0Note: you may need to restart the kernel to use updated packages.\n"
          ]
        },
        {
          "name": "stderr",
          "output_type": "stream",
          "text": [
            "  error: subprocess-exited-with-error\n",
            "  \n",
            "  × Preparing metadata (pyproject.toml) did not run successfully.\n",
            "  │ exit code: 1\n",
            "  ╰─> [33 lines of output]\n",
            "      Partial import of sklearn during the build process.\n",
            "      Traceback (most recent call last):\n",
            "        File \"c:\\Users\\pedro\\Downloads\\ML\\predictive-maintenance-ML-main\\.venv\\Lib\\site-packages\\pip\\_vendor\\pyproject_hooks\\_in_process\\_in_process.py\", line 353, in <module>\n",
            "          main()\n",
            "        File \"c:\\Users\\pedro\\Downloads\\ML\\predictive-maintenance-ML-main\\.venv\\Lib\\site-packages\\pip\\_vendor\\pyproject_hooks\\_in_process\\_in_process.py\", line 335, in main\n",
            "          json_out['return_val'] = hook(**hook_input['kwargs'])\n",
            "                                   ^^^^^^^^^^^^^^^^^^^^^^^^^^^^\n",
            "        File \"c:\\Users\\pedro\\Downloads\\ML\\predictive-maintenance-ML-main\\.venv\\Lib\\site-packages\\pip\\_vendor\\pyproject_hooks\\_in_process\\_in_process.py\", line 149, in prepare_metadata_for_build_wheel\n",
            "          return hook(metadata_directory, config_settings)\n",
            "                 ^^^^^^^^^^^^^^^^^^^^^^^^^^^^^^^^^^^^^^^^^\n",
            "        File \"C:\\Users\\pedro\\AppData\\Local\\Temp\\pip-build-env-4nm16k7b\\overlay\\Lib\\site-packages\\setuptools\\build_meta.py\", line 373, in prepare_metadata_for_build_wheel\n",
            "          self.run_setup()\n",
            "        File \"C:\\Users\\pedro\\AppData\\Local\\Temp\\pip-build-env-4nm16k7b\\overlay\\Lib\\site-packages\\setuptools\\build_meta.py\", line 516, in run_setup\n",
            "          super().run_setup(setup_script=setup_script)\n",
            "        File \"C:\\Users\\pedro\\AppData\\Local\\Temp\\pip-build-env-4nm16k7b\\overlay\\Lib\\site-packages\\setuptools\\build_meta.py\", line 318, in run_setup\n",
            "          exec(code, locals())\n",
            "        File \"<string>\", line 626, in <module>\n",
            "        File \"<string>\", line 620, in setup_package\n",
            "        File \"<string>\", line 554, in configure_extension_modules\n",
            "        File \"C:\\Users\\pedro\\AppData\\Local\\Temp\\pip-install-7nzy45ut\\scikit-learn_f96237d3805c4f3ca92bcc96c2b82dd6\\sklearn\\_build_utils\\__init__.py\", line 46, in cythonize_extensions\n",
            "          basic_check_build()\n",
            "        File \"C:\\Users\\pedro\\AppData\\Local\\Temp\\pip-install-7nzy45ut\\scikit-learn_f96237d3805c4f3ca92bcc96c2b82dd6\\sklearn\\_build_utils\\pre_build_helpers.py\", line 73, in basic_check_build\n",
            "          compile_test_program(code)\n",
            "        File \"C:\\Users\\pedro\\AppData\\Local\\Temp\\pip-install-7nzy45ut\\scikit-learn_f96237d3805c4f3ca92bcc96c2b82dd6\\sklearn\\_build_utils\\pre_build_helpers.py\", line 31, in compile_test_program\n",
            "          ccompiler.compile(\n",
            "        File \"C:\\Users\\pedro\\AppData\\Local\\Temp\\pip-build-env-4nm16k7b\\overlay\\Lib\\site-packages\\setuptools\\_distutils\\_msvccompiler.py\", line 379, in compile\n",
            "          self.initialize()\n",
            "        File \"C:\\Users\\pedro\\AppData\\Local\\Temp\\pip-build-env-4nm16k7b\\overlay\\Lib\\site-packages\\setuptools\\_distutils\\_msvccompiler.py\", line 289, in initialize\n",
            "          vc_env = _get_vc_env(plat_spec)\n",
            "                   ^^^^^^^^^^^^^^^^^^^^^^\n",
            "        File \"C:\\Users\\pedro\\AppData\\Local\\Temp\\pip-build-env-4nm16k7b\\overlay\\Lib\\site-packages\\setuptools\\_distutils\\_msvccompiler.py\", line 150, in _get_vc_env\n",
            "          raise DistutilsPlatformError(\n",
            "      distutils.errors.DistutilsPlatformError: Microsoft Visual C++ 14.0 or greater is required. Get it with \"Microsoft C++ Build Tools\": https://visualstudio.microsoft.com/visual-cpp-build-tools/\n",
            "      [end of output]\n",
            "  \n",
            "  note: This error originates from a subprocess, and is likely not a problem with pip.\n",
            "error: metadata-generation-failed\n",
            "\n",
            "× Encountered error while generating package metadata.\n",
            "╰─> See above for output.\n",
            "\n",
            "note: This is an issue with the package mentioned above, not pip.\n",
            "hint: See above for details.\n"
          ]
        },
        {
          "name": "stdout",
          "output_type": "stream",
          "text": [
            "\n",
            "  Using cached scikit-learn-1.3.0.tar.gz (7.5 MB)\n",
            "  Installing build dependencies: started\n",
            "  Installing build dependencies: finished with status 'done'\n",
            "  Getting requirements to build wheel: started\n",
            "  Getting requirements to build wheel: finished with status 'done'\n",
            "  Preparing metadata (pyproject.toml): started\n",
            "  Preparing metadata (pyproject.toml): finished with status 'error'\n"
          ]
        }
      ],
      "source": [
        "%pip install scikit-learn==1.3.0\n"
      ]
    },
    {
      "cell_type": "code",
      "execution_count": 16,
      "metadata": {},
      "outputs": [
        {
          "name": "stdout",
          "output_type": "stream",
          "text": [
            "Requirement already satisfied: pandas in c:\\users\\pedro\\downloads\\ml\\predictive-maintenance-ml-main\\.venv\\lib\\site-packages (2.2.3)\n",
            "Requirement already satisfied: numpy>=1.26.0 in c:\\users\\pedro\\downloads\\ml\\predictive-maintenance-ml-main\\.venv\\lib\\site-packages (from pandas) (2.1.2)\n",
            "Requirement already satisfied: python-dateutil>=2.8.2 in c:\\users\\pedro\\downloads\\ml\\predictive-maintenance-ml-main\\.venv\\lib\\site-packages (from pandas) (2.9.0.post0)\n",
            "Requirement already satisfied: pytz>=2020.1 in c:\\users\\pedro\\downloads\\ml\\predictive-maintenance-ml-main\\.venv\\lib\\site-packages (from pandas) (2024.2)\n",
            "Requirement already satisfied: tzdata>=2022.7 in c:\\users\\pedro\\downloads\\ml\\predictive-maintenance-ml-main\\.venv\\lib\\site-packages (from pandas) (2024.2)\n",
            "Requirement already satisfied: six>=1.5 in c:\\users\\pedro\\downloads\\ml\\predictive-maintenance-ml-main\\.venv\\lib\\site-packages (from python-dateutil>=2.8.2->pandas) (1.16.0)\n",
            "Note: you may need to restart the kernel to use updated packages.\n",
            "Requirement already satisfied: numpy in c:\\users\\pedro\\downloads\\ml\\predictive-maintenance-ml-main\\.venv\\lib\\site-packages (2.1.2)\n",
            "Note: you may need to restart the kernel to use updated packages.\n",
            "Requirement already satisfied: matplotlib in c:\\users\\pedro\\downloads\\ml\\predictive-maintenance-ml-main\\.venv\\lib\\site-packages (3.9.2)\n",
            "Requirement already satisfied: contourpy>=1.0.1 in c:\\users\\pedro\\downloads\\ml\\predictive-maintenance-ml-main\\.venv\\lib\\site-packages (from matplotlib) (1.3.0)\n",
            "Requirement already satisfied: cycler>=0.10 in c:\\users\\pedro\\downloads\\ml\\predictive-maintenance-ml-main\\.venv\\lib\\site-packages (from matplotlib) (0.12.1)\n",
            "Requirement already satisfied: fonttools>=4.22.0 in c:\\users\\pedro\\downloads\\ml\\predictive-maintenance-ml-main\\.venv\\lib\\site-packages (from matplotlib) (4.54.1)\n",
            "Requirement already satisfied: kiwisolver>=1.3.1 in c:\\users\\pedro\\downloads\\ml\\predictive-maintenance-ml-main\\.venv\\lib\\site-packages (from matplotlib) (1.4.7)\n",
            "Requirement already satisfied: numpy>=1.23 in c:\\users\\pedro\\downloads\\ml\\predictive-maintenance-ml-main\\.venv\\lib\\site-packages (from matplotlib) (2.1.2)\n",
            "Requirement already satisfied: packaging>=20.0 in c:\\users\\pedro\\downloads\\ml\\predictive-maintenance-ml-main\\.venv\\lib\\site-packages (from matplotlib) (24.1)\n",
            "Requirement already satisfied: pillow>=8 in c:\\users\\pedro\\downloads\\ml\\predictive-maintenance-ml-main\\.venv\\lib\\site-packages (from matplotlib) (11.0.0)\n",
            "Requirement already satisfied: pyparsing>=2.3.1 in c:\\users\\pedro\\downloads\\ml\\predictive-maintenance-ml-main\\.venv\\lib\\site-packages (from matplotlib) (3.2.0)\n",
            "Requirement already satisfied: python-dateutil>=2.7 in c:\\users\\pedro\\downloads\\ml\\predictive-maintenance-ml-main\\.venv\\lib\\site-packages (from matplotlib) (2.9.0.post0)\n",
            "Requirement already satisfied: six>=1.5 in c:\\users\\pedro\\downloads\\ml\\predictive-maintenance-ml-main\\.venv\\lib\\site-packages (from python-dateutil>=2.7->matplotlib) (1.16.0)\n",
            "Note: you may need to restart the kernel to use updated packages.\n",
            "Requirement already satisfied: seaborn==0.12.1 in c:\\users\\pedro\\downloads\\ml\\predictive-maintenance-ml-main\\.venv\\lib\\site-packages (0.12.1)\n",
            "Requirement already satisfied: numpy>=1.17 in c:\\users\\pedro\\downloads\\ml\\predictive-maintenance-ml-main\\.venv\\lib\\site-packages (from seaborn==0.12.1) (2.1.2)\n",
            "Requirement already satisfied: pandas>=0.25 in c:\\users\\pedro\\downloads\\ml\\predictive-maintenance-ml-main\\.venv\\lib\\site-packages (from seaborn==0.12.1) (2.2.3)\n",
            "Requirement already satisfied: matplotlib!=3.6.1,>=3.1 in c:\\users\\pedro\\downloads\\ml\\predictive-maintenance-ml-main\\.venv\\lib\\site-packages (from seaborn==0.12.1) (3.9.2)\n",
            "Requirement already satisfied: contourpy>=1.0.1 in c:\\users\\pedro\\downloads\\ml\\predictive-maintenance-ml-main\\.venv\\lib\\site-packages (from matplotlib!=3.6.1,>=3.1->seaborn==0.12.1) (1.3.0)\n",
            "Requirement already satisfied: cycler>=0.10 in c:\\users\\pedro\\downloads\\ml\\predictive-maintenance-ml-main\\.venv\\lib\\site-packages (from matplotlib!=3.6.1,>=3.1->seaborn==0.12.1) (0.12.1)\n",
            "Requirement already satisfied: fonttools>=4.22.0 in c:\\users\\pedro\\downloads\\ml\\predictive-maintenance-ml-main\\.venv\\lib\\site-packages (from matplotlib!=3.6.1,>=3.1->seaborn==0.12.1) (4.54.1)\n",
            "Requirement already satisfied: kiwisolver>=1.3.1 in c:\\users\\pedro\\downloads\\ml\\predictive-maintenance-ml-main\\.venv\\lib\\site-packages (from matplotlib!=3.6.1,>=3.1->seaborn==0.12.1) (1.4.7)\n",
            "Requirement already satisfied: packaging>=20.0 in c:\\users\\pedro\\downloads\\ml\\predictive-maintenance-ml-main\\.venv\\lib\\site-packages (from matplotlib!=3.6.1,>=3.1->seaborn==0.12.1) (24.1)\n",
            "Requirement already satisfied: pillow>=8 in c:\\users\\pedro\\downloads\\ml\\predictive-maintenance-ml-main\\.venv\\lib\\site-packages (from matplotlib!=3.6.1,>=3.1->seaborn==0.12.1) (11.0.0)\n",
            "Requirement already satisfied: pyparsing>=2.3.1 in c:\\users\\pedro\\downloads\\ml\\predictive-maintenance-ml-main\\.venv\\lib\\site-packages (from matplotlib!=3.6.1,>=3.1->seaborn==0.12.1) (3.2.0)\n",
            "Requirement already satisfied: python-dateutil>=2.7 in c:\\users\\pedro\\downloads\\ml\\predictive-maintenance-ml-main\\.venv\\lib\\site-packages (from matplotlib!=3.6.1,>=3.1->seaborn==0.12.1) (2.9.0.post0)\n",
            "Requirement already satisfied: pytz>=2020.1 in c:\\users\\pedro\\downloads\\ml\\predictive-maintenance-ml-main\\.venv\\lib\\site-packages (from pandas>=0.25->seaborn==0.12.1) (2024.2)\n",
            "Requirement already satisfied: tzdata>=2022.7 in c:\\users\\pedro\\downloads\\ml\\predictive-maintenance-ml-main\\.venv\\lib\\site-packages (from pandas>=0.25->seaborn==0.12.1) (2024.2)\n",
            "Requirement already satisfied: six>=1.5 in c:\\users\\pedro\\downloads\\ml\\predictive-maintenance-ml-main\\.venv\\lib\\site-packages (from python-dateutil>=2.7->matplotlib!=3.6.1,>=3.1->seaborn==0.12.1) (1.16.0)\n",
            "Note: you may need to restart the kernel to use updated packages.\n",
            "Requirement already satisfied: scikit-learn in c:\\users\\pedro\\downloads\\ml\\predictive-maintenance-ml-main\\.venv\\lib\\site-packages (1.5.2)Note: you may need to restart the kernel to use updated packages.\n",
            "\n",
            "Requirement already satisfied: numpy>=1.19.5 in c:\\users\\pedro\\downloads\\ml\\predictive-maintenance-ml-main\\.venv\\lib\\site-packages (from scikit-learn) (2.1.2)\n",
            "Requirement already satisfied: scipy>=1.6.0 in c:\\users\\pedro\\downloads\\ml\\predictive-maintenance-ml-main\\.venv\\lib\\site-packages (from scikit-learn) (1.14.1)\n",
            "Requirement already satisfied: joblib>=1.2.0 in c:\\users\\pedro\\downloads\\ml\\predictive-maintenance-ml-main\\.venv\\lib\\site-packages (from scikit-learn) (1.4.2)\n",
            "Requirement already satisfied: threadpoolctl>=3.1.0 in c:\\users\\pedro\\downloads\\ml\\predictive-maintenance-ml-main\\.venv\\lib\\site-packages (from scikit-learn) (3.5.0)\n"
          ]
        }
      ],
      "source": [
        "%pip install pandas\n",
        "%pip install numpy\n",
        "%pip install matplotlib\n",
        "%pip install seaborn==0.12.1\n",
        "%pip install -U scikit-learn"
      ]
    },
    {
      "cell_type": "code",
      "execution_count": 17,
      "metadata": {
        "id": "l-K8laRt-ikq"
      },
      "outputs": [],
      "source": [
        "import numpy as np\n",
        "import pandas as pd\n",
        "import matplotlib.pyplot as plt\n",
        "import seaborn as sns\n",
        "%matplotlib inline"
      ]
    },
    {
      "cell_type": "code",
      "execution_count": 18,
      "metadata": {
        "id": "sDGm1a1G-4Y6"
      },
      "outputs": [],
      "source": [
        "df = pd.read_csv('predictive_maintenance.csv')"
      ]
    },
    {
      "cell_type": "code",
      "execution_count": 19,
      "metadata": {
        "colab": {
          "base_uri": "https://localhost:8080/",
          "height": 267
        },
        "id": "qKoq9SAt_CS-",
        "outputId": "7d535348-3260-404b-9c7c-ef12ac3e2960"
      },
      "outputs": [
        {
          "data": {
            "text/html": [
              "<div>\n",
              "<style scoped>\n",
              "    .dataframe tbody tr th:only-of-type {\n",
              "        vertical-align: middle;\n",
              "    }\n",
              "\n",
              "    .dataframe tbody tr th {\n",
              "        vertical-align: top;\n",
              "    }\n",
              "\n",
              "    .dataframe thead th {\n",
              "        text-align: right;\n",
              "    }\n",
              "</style>\n",
              "<table border=\"1\" class=\"dataframe\">\n",
              "  <thead>\n",
              "    <tr style=\"text-align: right;\">\n",
              "      <th></th>\n",
              "      <th>UDI</th>\n",
              "      <th>Product ID</th>\n",
              "      <th>Type</th>\n",
              "      <th>Frequency PickUp</th>\n",
              "      <th>Pressure</th>\n",
              "      <th>Rotational speed [rpm]</th>\n",
              "      <th>Gear</th>\n",
              "      <th>Voltage PickUp</th>\n",
              "      <th>Target</th>\n",
              "      <th>Failure Type</th>\n",
              "    </tr>\n",
              "  </thead>\n",
              "  <tbody>\n",
              "    <tr>\n",
              "      <th>0</th>\n",
              "      <td>1</td>\n",
              "      <td>M14860</td>\n",
              "      <td>M</td>\n",
              "      <td>298.1</td>\n",
              "      <td>308.6</td>\n",
              "      <td>1551</td>\n",
              "      <td>42.8</td>\n",
              "      <td>0</td>\n",
              "      <td>0</td>\n",
              "      <td>No Failure</td>\n",
              "    </tr>\n",
              "    <tr>\n",
              "      <th>1</th>\n",
              "      <td>2</td>\n",
              "      <td>L47181</td>\n",
              "      <td>L</td>\n",
              "      <td>298.2</td>\n",
              "      <td>308.7</td>\n",
              "      <td>1408</td>\n",
              "      <td>46.3</td>\n",
              "      <td>3</td>\n",
              "      <td>0</td>\n",
              "      <td>No Failure</td>\n",
              "    </tr>\n",
              "    <tr>\n",
              "      <th>2</th>\n",
              "      <td>3</td>\n",
              "      <td>L47182</td>\n",
              "      <td>L</td>\n",
              "      <td>298.1</td>\n",
              "      <td>308.5</td>\n",
              "      <td>1498</td>\n",
              "      <td>49.4</td>\n",
              "      <td>5</td>\n",
              "      <td>0</td>\n",
              "      <td>No Failure</td>\n",
              "    </tr>\n",
              "    <tr>\n",
              "      <th>3</th>\n",
              "      <td>4</td>\n",
              "      <td>L47183</td>\n",
              "      <td>L</td>\n",
              "      <td>298.2</td>\n",
              "      <td>308.6</td>\n",
              "      <td>1433</td>\n",
              "      <td>39.5</td>\n",
              "      <td>7</td>\n",
              "      <td>0</td>\n",
              "      <td>No Failure</td>\n",
              "    </tr>\n",
              "    <tr>\n",
              "      <th>4</th>\n",
              "      <td>5</td>\n",
              "      <td>L47184</td>\n",
              "      <td>L</td>\n",
              "      <td>298.2</td>\n",
              "      <td>308.7</td>\n",
              "      <td>1408</td>\n",
              "      <td>40.0</td>\n",
              "      <td>9</td>\n",
              "      <td>0</td>\n",
              "      <td>No Failure</td>\n",
              "    </tr>\n",
              "  </tbody>\n",
              "</table>\n",
              "</div>"
            ],
            "text/plain": [
              "   UDI Product ID Type  Frequency PickUp  Pressure  Rotational speed [rpm]  \\\n",
              "0    1     M14860    M             298.1     308.6                    1551   \n",
              "1    2     L47181    L             298.2     308.7                    1408   \n",
              "2    3     L47182    L             298.1     308.5                    1498   \n",
              "3    4     L47183    L             298.2     308.6                    1433   \n",
              "4    5     L47184    L             298.2     308.7                    1408   \n",
              "\n",
              "   Gear  Voltage PickUp  Target Failure Type  \n",
              "0  42.8               0       0   No Failure  \n",
              "1  46.3               3       0   No Failure  \n",
              "2  49.4               5       0   No Failure  \n",
              "3  39.5               7       0   No Failure  \n",
              "4  40.0               9       0   No Failure  "
            ]
          },
          "execution_count": 19,
          "metadata": {},
          "output_type": "execute_result"
        }
      ],
      "source": [
        "df.head()"
      ]
    },
    {
      "cell_type": "code",
      "execution_count": 20,
      "metadata": {
        "colab": {
          "base_uri": "https://localhost:8080/"
        },
        "id": "un324NVR_DQU",
        "outputId": "287e7018-24e2-4cc5-886c-8528b8b23492"
      },
      "outputs": [
        {
          "name": "stdout",
          "output_type": "stream",
          "text": [
            "<class 'pandas.core.frame.DataFrame'>\n",
            "RangeIndex: 10000 entries, 0 to 9999\n",
            "Data columns (total 10 columns):\n",
            " #   Column                  Non-Null Count  Dtype  \n",
            "---  ------                  --------------  -----  \n",
            " 0   UDI                     10000 non-null  int64  \n",
            " 1   Product ID              10000 non-null  object \n",
            " 2   Type                    10000 non-null  object \n",
            " 3   Frequency PickUp        10000 non-null  float64\n",
            " 4   Pressure                10000 non-null  float64\n",
            " 5   Rotational speed [rpm]  10000 non-null  int64  \n",
            " 6   Gear                    10000 non-null  float64\n",
            " 7   Voltage PickUp          10000 non-null  int64  \n",
            " 8   Target                  10000 non-null  int64  \n",
            " 9   Failure Type            10000 non-null  object \n",
            "dtypes: float64(3), int64(4), object(3)\n",
            "memory usage: 781.4+ KB\n"
          ]
        }
      ],
      "source": [
        "df.info()"
      ]
    },
    {
      "cell_type": "code",
      "execution_count": 21,
      "metadata": {
        "colab": {
          "base_uri": "https://localhost:8080/"
        },
        "id": "nOQvh2Q2F_Wg",
        "outputId": "bef65f11-121e-42a2-80b9-91dfce864f1a"
      },
      "outputs": [
        {
          "data": {
            "text/plain": [
              "3"
            ]
          },
          "execution_count": 21,
          "metadata": {},
          "output_type": "execute_result"
        }
      ],
      "source": [
        "df['Type'].nunique()"
      ]
    },
    {
      "cell_type": "code",
      "execution_count": 22,
      "metadata": {
        "colab": {
          "base_uri": "https://localhost:8080/"
        },
        "id": "f0u-QF4U_Hg_",
        "outputId": "d7c0d836-c74b-47f3-f317-841061384e14"
      },
      "outputs": [
        {
          "data": {
            "text/plain": [
              "UDI                       0\n",
              "Product ID                0\n",
              "Type                      0\n",
              "Frequency PickUp          0\n",
              "Pressure                  0\n",
              "Rotational speed [rpm]    0\n",
              "Gear                      0\n",
              "Voltage PickUp            0\n",
              "Target                    0\n",
              "Failure Type              0\n",
              "dtype: int64"
            ]
          },
          "execution_count": 22,
          "metadata": {},
          "output_type": "execute_result"
        }
      ],
      "source": [
        "df.isnull().sum()"
      ]
    },
    {
      "cell_type": "markdown",
      "metadata": {
        "id": "uOJJXSVsAkUk"
      },
      "source": [
        "#Some Understandings : <br>\n",
        "1. First we need to transform some columns by ordinal encoding/ label encoding<br>\n",
        "2. There are no missing values<br>\n",
        "3. `Type` Column has 3 types - L/M/H which is ordinal data , so apply ordinal encoding here<br>\n",
        "The target variable here is `Target` only, i.e. to predict failure or not\n",
        "4. Notice that, there are two output target variables `Target` and `Failure Type`<br> So prediect here multiclass Failure Type Variable<br>\n",
        "\n",
        "5. This is a classification problem <br>"
      ]
    },
    {
      "cell_type": "code",
      "execution_count": 23,
      "metadata": {
        "colab": {
          "base_uri": "https://localhost:8080/",
          "height": 589
        },
        "id": "KMr6ACk-W_mq",
        "outputId": "bf06ee90-8326-43cd-8c09-bd602412bab7"
      },
      "outputs": [
        {
          "data": {
            "text/html": [
              "<div>\n",
              "<style scoped>\n",
              "    .dataframe tbody tr th:only-of-type {\n",
              "        vertical-align: middle;\n",
              "    }\n",
              "\n",
              "    .dataframe tbody tr th {\n",
              "        vertical-align: top;\n",
              "    }\n",
              "\n",
              "    .dataframe thead th {\n",
              "        text-align: right;\n",
              "    }\n",
              "</style>\n",
              "<table border=\"1\" class=\"dataframe\">\n",
              "  <thead>\n",
              "    <tr style=\"text-align: right;\">\n",
              "      <th></th>\n",
              "      <th>UDI</th>\n",
              "      <th>Product ID</th>\n",
              "      <th>Type</th>\n",
              "      <th>Frequency PickUp</th>\n",
              "      <th>Pressure</th>\n",
              "      <th>Rotational speed [rpm]</th>\n",
              "      <th>Gear</th>\n",
              "      <th>Voltage PickUp</th>\n",
              "      <th>Target</th>\n",
              "      <th>Failure Type</th>\n",
              "    </tr>\n",
              "  </thead>\n",
              "  <tbody>\n",
              "    <tr>\n",
              "      <th>50</th>\n",
              "      <td>51</td>\n",
              "      <td>L47230</td>\n",
              "      <td>L</td>\n",
              "      <td>298.9</td>\n",
              "      <td>309.1</td>\n",
              "      <td>2861</td>\n",
              "      <td>4.6</td>\n",
              "      <td>143</td>\n",
              "      <td>1</td>\n",
              "      <td>Power Failure</td>\n",
              "    </tr>\n",
              "    <tr>\n",
              "      <th>69</th>\n",
              "      <td>70</td>\n",
              "      <td>L47249</td>\n",
              "      <td>L</td>\n",
              "      <td>298.9</td>\n",
              "      <td>309.0</td>\n",
              "      <td>1410</td>\n",
              "      <td>65.7</td>\n",
              "      <td>191</td>\n",
              "      <td>1</td>\n",
              "      <td>Power Failure</td>\n",
              "    </tr>\n",
              "    <tr>\n",
              "      <th>77</th>\n",
              "      <td>78</td>\n",
              "      <td>L47257</td>\n",
              "      <td>L</td>\n",
              "      <td>298.8</td>\n",
              "      <td>308.9</td>\n",
              "      <td>1455</td>\n",
              "      <td>41.3</td>\n",
              "      <td>208</td>\n",
              "      <td>1</td>\n",
              "      <td>Tool Wear Failure</td>\n",
              "    </tr>\n",
              "    <tr>\n",
              "      <th>160</th>\n",
              "      <td>161</td>\n",
              "      <td>L47340</td>\n",
              "      <td>L</td>\n",
              "      <td>298.4</td>\n",
              "      <td>308.2</td>\n",
              "      <td>1282</td>\n",
              "      <td>60.7</td>\n",
              "      <td>216</td>\n",
              "      <td>1</td>\n",
              "      <td>Overstrain Failure</td>\n",
              "    </tr>\n",
              "    <tr>\n",
              "      <th>161</th>\n",
              "      <td>162</td>\n",
              "      <td>L47341</td>\n",
              "      <td>L</td>\n",
              "      <td>298.3</td>\n",
              "      <td>308.1</td>\n",
              "      <td>1412</td>\n",
              "      <td>52.3</td>\n",
              "      <td>218</td>\n",
              "      <td>1</td>\n",
              "      <td>Overstrain Failure</td>\n",
              "    </tr>\n",
              "    <tr>\n",
              "      <th>...</th>\n",
              "      <td>...</td>\n",
              "      <td>...</td>\n",
              "      <td>...</td>\n",
              "      <td>...</td>\n",
              "      <td>...</td>\n",
              "      <td>...</td>\n",
              "      <td>...</td>\n",
              "      <td>...</td>\n",
              "      <td>...</td>\n",
              "      <td>...</td>\n",
              "    </tr>\n",
              "    <tr>\n",
              "      <th>9758</th>\n",
              "      <td>9759</td>\n",
              "      <td>L56938</td>\n",
              "      <td>L</td>\n",
              "      <td>298.6</td>\n",
              "      <td>309.8</td>\n",
              "      <td>2271</td>\n",
              "      <td>16.2</td>\n",
              "      <td>218</td>\n",
              "      <td>1</td>\n",
              "      <td>Tool Wear Failure</td>\n",
              "    </tr>\n",
              "    <tr>\n",
              "      <th>9764</th>\n",
              "      <td>9765</td>\n",
              "      <td>L56944</td>\n",
              "      <td>L</td>\n",
              "      <td>298.5</td>\n",
              "      <td>309.5</td>\n",
              "      <td>1294</td>\n",
              "      <td>66.7</td>\n",
              "      <td>12</td>\n",
              "      <td>1</td>\n",
              "      <td>Power Failure</td>\n",
              "    </tr>\n",
              "    <tr>\n",
              "      <th>9822</th>\n",
              "      <td>9823</td>\n",
              "      <td>L57002</td>\n",
              "      <td>L</td>\n",
              "      <td>298.5</td>\n",
              "      <td>309.4</td>\n",
              "      <td>1360</td>\n",
              "      <td>60.9</td>\n",
              "      <td>187</td>\n",
              "      <td>1</td>\n",
              "      <td>Overstrain Failure</td>\n",
              "    </tr>\n",
              "    <tr>\n",
              "      <th>9830</th>\n",
              "      <td>9831</td>\n",
              "      <td>L57010</td>\n",
              "      <td>L</td>\n",
              "      <td>298.3</td>\n",
              "      <td>309.3</td>\n",
              "      <td>1337</td>\n",
              "      <td>56.1</td>\n",
              "      <td>206</td>\n",
              "      <td>1</td>\n",
              "      <td>Overstrain Failure</td>\n",
              "    </tr>\n",
              "    <tr>\n",
              "      <th>9974</th>\n",
              "      <td>9975</td>\n",
              "      <td>L57154</td>\n",
              "      <td>L</td>\n",
              "      <td>298.6</td>\n",
              "      <td>308.2</td>\n",
              "      <td>1361</td>\n",
              "      <td>68.2</td>\n",
              "      <td>172</td>\n",
              "      <td>1</td>\n",
              "      <td>Power Failure</td>\n",
              "    </tr>\n",
              "  </tbody>\n",
              "</table>\n",
              "<p>339 rows × 10 columns</p>\n",
              "</div>"
            ],
            "text/plain": [
              "       UDI Product ID Type  Frequency PickUp  Pressure  \\\n",
              "50      51     L47230    L             298.9     309.1   \n",
              "69      70     L47249    L             298.9     309.0   \n",
              "77      78     L47257    L             298.8     308.9   \n",
              "160    161     L47340    L             298.4     308.2   \n",
              "161    162     L47341    L             298.3     308.1   \n",
              "...    ...        ...  ...               ...       ...   \n",
              "9758  9759     L56938    L             298.6     309.8   \n",
              "9764  9765     L56944    L             298.5     309.5   \n",
              "9822  9823     L57002    L             298.5     309.4   \n",
              "9830  9831     L57010    L             298.3     309.3   \n",
              "9974  9975     L57154    L             298.6     308.2   \n",
              "\n",
              "      Rotational speed [rpm]  Gear  Voltage PickUp  Target        Failure Type  \n",
              "50                      2861   4.6             143       1       Power Failure  \n",
              "69                      1410  65.7             191       1       Power Failure  \n",
              "77                      1455  41.3             208       1   Tool Wear Failure  \n",
              "160                     1282  60.7             216       1  Overstrain Failure  \n",
              "161                     1412  52.3             218       1  Overstrain Failure  \n",
              "...                      ...   ...             ...     ...                 ...  \n",
              "9758                    2271  16.2             218       1   Tool Wear Failure  \n",
              "9764                    1294  66.7              12       1       Power Failure  \n",
              "9822                    1360  60.9             187       1  Overstrain Failure  \n",
              "9830                    1337  56.1             206       1  Overstrain Failure  \n",
              "9974                    1361  68.2             172       1       Power Failure  \n",
              "\n",
              "[339 rows x 10 columns]"
            ]
          },
          "execution_count": 23,
          "metadata": {},
          "output_type": "execute_result"
        }
      ],
      "source": [
        "df[df['Target']==1]"
      ]
    },
    {
      "cell_type": "code",
      "execution_count": 24,
      "metadata": {
        "colab": {
          "base_uri": "https://localhost:8080/"
        },
        "id": "v66OMhXTAdXd",
        "outputId": "e0c841b2-feca-469d-919e-e101d930f158"
      },
      "outputs": [
        {
          "data": {
            "text/plain": [
              "(8000,)"
            ]
          },
          "execution_count": 24,
          "metadata": {},
          "output_type": "execute_result"
        }
      ],
      "source": [
        "X = df.iloc[:,2:8]\n",
        "y = df.iloc[:,-1]\n",
        "\n",
        "from sklearn.model_selection import train_test_split\n",
        "X_train,X_test,y_train,y_test = train_test_split(X,y,test_size = 0.2,random_state = 42)\n",
        "y_train.shape"
      ]
    },
    {
      "cell_type": "code",
      "execution_count": 25,
      "metadata": {
        "id": "l66hlfE6FS5A"
      },
      "outputs": [],
      "source": [
        "from sklearn.preprocessing import OrdinalEncoder\n",
        "oe = OrdinalEncoder(categories=[['L', 'M', 'H']])\n",
        "oe.fit(X_train[['Type']])\n",
        "X_train['Type'] = oe.transform(X_train[['Type']]).astype(int)\n",
        "X_test['Type'] = oe.transform(X_test[['Type']]).astype(int)"
      ]
    },
    {
      "cell_type": "code",
      "execution_count": 26,
      "metadata": {
        "colab": {
          "base_uri": "https://localhost:8080/",
          "height": 206
        },
        "id": "9z6GUSWf_WFB",
        "outputId": "4994937a-dd71-47e1-f836-50c67688292e"
      },
      "outputs": [
        {
          "data": {
            "text/html": [
              "<div>\n",
              "<style scoped>\n",
              "    .dataframe tbody tr th:only-of-type {\n",
              "        vertical-align: middle;\n",
              "    }\n",
              "\n",
              "    .dataframe tbody tr th {\n",
              "        vertical-align: top;\n",
              "    }\n",
              "\n",
              "    .dataframe thead th {\n",
              "        text-align: right;\n",
              "    }\n",
              "</style>\n",
              "<table border=\"1\" class=\"dataframe\">\n",
              "  <thead>\n",
              "    <tr style=\"text-align: right;\">\n",
              "      <th></th>\n",
              "      <th>Type</th>\n",
              "      <th>Frequency PickUp</th>\n",
              "      <th>Pressure</th>\n",
              "      <th>Rotational speed [rpm]</th>\n",
              "      <th>Gear</th>\n",
              "      <th>Voltage PickUp</th>\n",
              "    </tr>\n",
              "  </thead>\n",
              "  <tbody>\n",
              "    <tr>\n",
              "      <th>9254</th>\n",
              "      <td>0</td>\n",
              "      <td>298.3</td>\n",
              "      <td>309.1</td>\n",
              "      <td>1616</td>\n",
              "      <td>31.1</td>\n",
              "      <td>195</td>\n",
              "    </tr>\n",
              "    <tr>\n",
              "      <th>1561</th>\n",
              "      <td>0</td>\n",
              "      <td>298.2</td>\n",
              "      <td>308.4</td>\n",
              "      <td>1388</td>\n",
              "      <td>53.8</td>\n",
              "      <td>137</td>\n",
              "    </tr>\n",
              "    <tr>\n",
              "      <th>1670</th>\n",
              "      <td>0</td>\n",
              "      <td>298.2</td>\n",
              "      <td>307.8</td>\n",
              "      <td>1528</td>\n",
              "      <td>31.1</td>\n",
              "      <td>194</td>\n",
              "    </tr>\n",
              "    <tr>\n",
              "      <th>6087</th>\n",
              "      <td>1</td>\n",
              "      <td>300.9</td>\n",
              "      <td>310.8</td>\n",
              "      <td>1599</td>\n",
              "      <td>33.0</td>\n",
              "      <td>7</td>\n",
              "    </tr>\n",
              "    <tr>\n",
              "      <th>6669</th>\n",
              "      <td>0</td>\n",
              "      <td>301.4</td>\n",
              "      <td>310.5</td>\n",
              "      <td>1571</td>\n",
              "      <td>33.9</td>\n",
              "      <td>208</td>\n",
              "    </tr>\n",
              "  </tbody>\n",
              "</table>\n",
              "</div>"
            ],
            "text/plain": [
              "      Type  Frequency PickUp  Pressure  Rotational speed [rpm]  Gear  \\\n",
              "9254     0             298.3     309.1                    1616  31.1   \n",
              "1561     0             298.2     308.4                    1388  53.8   \n",
              "1670     0             298.2     307.8                    1528  31.1   \n",
              "6087     1             300.9     310.8                    1599  33.0   \n",
              "6669     0             301.4     310.5                    1571  33.9   \n",
              "\n",
              "      Voltage PickUp  \n",
              "9254             195  \n",
              "1561             137  \n",
              "1670             194  \n",
              "6087               7  \n",
              "6669             208  "
            ]
          },
          "execution_count": 26,
          "metadata": {},
          "output_type": "execute_result"
        }
      ],
      "source": [
        "X_train.head()"
      ]
    },
    {
      "cell_type": "code",
      "execution_count": 27,
      "metadata": {
        "id": "M6ZPvYmbSCvR"
      },
      "outputs": [],
      "source": [
        "from sklearn.preprocessing import LabelEncoder\n",
        "categories = ['No Failure', 'Heat Dissipation Failure', 'Power Failure', 'Overstrain Failure', 'Tool Wear Failure', 'Random Failures']\n",
        "custom_encoder = {cat: i for i, cat in enumerate(categories)}\n",
        "y_train_encoded = [custom_encoder.get(cat, len(categories)) for cat in y_train]\n",
        "y_test_encoded = [custom_encoder.get(cat, len(categories)) for cat in y_test]\n",
        "le = LabelEncoder()\n",
        "le.fit(list(custom_encoder.values()))\n",
        "y_train = le.transform(y_train_encoded)\n",
        "y_test = le.transform(y_test_encoded)\n",
        "\n"
      ]
    },
    {
      "cell_type": "code",
      "execution_count": 28,
      "metadata": {
        "colab": {
          "base_uri": "https://localhost:8080/"
        },
        "id": "b98hqk4WUofO",
        "outputId": "63a65aa2-3dd7-4f52-de32-c6ef2fb3ad74"
      },
      "outputs": [
        {
          "name": "stdout",
          "output_type": "stream",
          "text": [
            "Training Accuracy    : 98.19 %\n",
            "Model Accuracy Score : 97.8 %\n",
            "\u001b[1m--------------------------------------------------------\u001b[0m\n",
            "Classification_Report: \n",
            "               precision    recall  f1-score   support\n",
            "\n",
            "           0       0.98      1.00      0.99      1935\n",
            "           1       0.57      0.27      0.36        15\n",
            "           2       0.83      0.75      0.79        20\n",
            "           3       0.82      0.69      0.75        13\n",
            "           4       0.00      0.00      0.00        11\n",
            "           5       0.00      0.00      0.00         6\n",
            "\n",
            "    accuracy                           0.98      2000\n",
            "   macro avg       0.53      0.45      0.48      2000\n",
            "weighted avg       0.97      0.98      0.97      2000\n",
            "\n",
            "\u001b[1m--------------------------------------------------------\u001b[0m\n"
          ]
        },
        {
          "name": "stderr",
          "output_type": "stream",
          "text": [
            "c:\\Users\\pedro\\Downloads\\ML\\predictive-maintenance-ML-main\\.venv\\Lib\\site-packages\\sklearn\\linear_model\\_logistic.py:469: ConvergenceWarning: lbfgs failed to converge (status=1):\n",
            "STOP: TOTAL NO. of ITERATIONS REACHED LIMIT.\n",
            "\n",
            "Increase the number of iterations (max_iter) or scale the data as shown in:\n",
            "    https://scikit-learn.org/stable/modules/preprocessing.html\n",
            "Please also refer to the documentation for alternative solver options:\n",
            "    https://scikit-learn.org/stable/modules/linear_model.html#logistic-regression\n",
            "  n_iter_i = _check_optimize_result(\n",
            "c:\\Users\\pedro\\Downloads\\ML\\predictive-maintenance-ML-main\\.venv\\Lib\\site-packages\\sklearn\\metrics\\_classification.py:1531: UndefinedMetricWarning: Precision is ill-defined and being set to 0.0 in labels with no predicted samples. Use `zero_division` parameter to control this behavior.\n",
            "  _warn_prf(average, modifier, f\"{metric.capitalize()} is\", len(result))\n",
            "c:\\Users\\pedro\\Downloads\\ML\\predictive-maintenance-ML-main\\.venv\\Lib\\site-packages\\sklearn\\metrics\\_classification.py:1531: UndefinedMetricWarning: Precision is ill-defined and being set to 0.0 in labels with no predicted samples. Use `zero_division` parameter to control this behavior.\n",
            "  _warn_prf(average, modifier, f\"{metric.capitalize()} is\", len(result))\n",
            "c:\\Users\\pedro\\Downloads\\ML\\predictive-maintenance-ML-main\\.venv\\Lib\\site-packages\\sklearn\\metrics\\_classification.py:1531: UndefinedMetricWarning: Precision is ill-defined and being set to 0.0 in labels with no predicted samples. Use `zero_division` parameter to control this behavior.\n",
            "  _warn_prf(average, modifier, f\"{metric.capitalize()} is\", len(result))\n"
          ]
        }
      ],
      "source": [
        "from sklearn.linear_model import LogisticRegression\n",
        "from sklearn.metrics import accuracy_score,classification_report,confusion_matrix\n",
        "\n",
        "clf = LogisticRegression(solver='lbfgs', max_iter=10000)\n",
        "clf.fit(X_train, y_train)\n",
        "\n",
        "# Predict the labels of the test set\n",
        "y_pred = clf.predict(X_test)\n",
        "\n",
        "log_train = round(clf.score(X_train, y_train) * 100, 2)\n",
        "log_accuracy = round(accuracy_score(y_pred, y_test) * 100, 2)\n",
        "\n",
        "\n",
        "print(\"Training Accuracy    :\",log_train ,\"%\")\n",
        "print(\"Model Accuracy Score :\",log_accuracy ,\"%\")\n",
        "print(\"\\033[1m--------------------------------------------------------\\033[0m\")\n",
        "print(\"Classification_Report: \\n\",classification_report(y_test,y_pred))\n",
        "print(\"\\033[1m--------------------------------------------------------\\033[0m\")\n"
      ]
    },
    {
      "cell_type": "code",
      "execution_count": 29,
      "metadata": {
        "colab": {
          "base_uri": "https://localhost:8080/"
        },
        "id": "NFDjSbZxZ8l8",
        "outputId": "ed10843e-6217-4aa9-87e7-fbe66417c7c1"
      },
      "outputs": [
        {
          "name": "stdout",
          "output_type": "stream",
          "text": [
            "Training Accuracy    : 100.0 %\n",
            "Model Accuracy Score : 97.2 %\n",
            "\u001b[1m--------------------------------------------------------\u001b[0m\n",
            "Classification_Report: \n",
            "               precision    recall  f1-score   support\n",
            "\n",
            "           0       0.99      0.99      0.99      1935\n",
            "           1       0.87      0.87      0.87        15\n",
            "           2       0.68      0.85      0.76        20\n",
            "           3       0.47      0.62      0.53        13\n",
            "           4       0.00      0.00      0.00        11\n",
            "           5       0.00      0.00      0.00         6\n",
            "\n",
            "    accuracy                           0.97      2000\n",
            "   macro avg       0.50      0.55      0.52      2000\n",
            "weighted avg       0.97      0.97      0.97      2000\n",
            "\n",
            "\u001b[1m--------------------------------------------------------\u001b[0m\n"
          ]
        }
      ],
      "source": [
        "# Decision Tree\n",
        "from sklearn.tree import DecisionTreeClassifier\n",
        "decision = DecisionTreeClassifier()\n",
        "decision.fit(X_train, y_train)\n",
        "y_pred_dec = decision.predict(X_test)\n",
        "\n",
        "decision_train = round(decision.score(X_train, y_train) * 100, 2)\n",
        "decision_accuracy = round(accuracy_score(y_pred_dec, y_test) * 100, 2)\n",
        "\n",
        "print(\"Training Accuracy    :\",decision_train ,\"%\")\n",
        "print(\"Model Accuracy Score :\",decision_accuracy ,\"%\")\n",
        "print(\"\\033[1m--------------------------------------------------------\\033[0m\")\n",
        "print(\"Classification_Report: \\n\",classification_report(y_test,y_pred_dec))\n",
        "print(\"\\033[1m--------------------------------------------------------\\033[0m\")\n"
      ]
    },
    {
      "cell_type": "code",
      "execution_count": 30,
      "metadata": {
        "colab": {
          "base_uri": "https://localhost:8080/"
        },
        "id": "AjGLj4phgmJW",
        "outputId": "8c59870e-a55b-4b06-a53c-40356d50c41c"
      },
      "outputs": [
        {
          "name": "stdout",
          "output_type": "stream",
          "text": [
            "Training Accuracy    : 100.0 %\n",
            "Model Accuracy Score : 98.05 %\n",
            "\u001b[1m--------------------------------------------------------\u001b[0m\n",
            "Classification_Report: \n",
            "               precision    recall  f1-score   support\n",
            "\n",
            "           0       0.98      1.00      0.99      1935\n",
            "           1       0.82      0.60      0.69        15\n",
            "           2       0.76      0.80      0.78        20\n",
            "           3       1.00      0.54      0.70        13\n",
            "           4       0.00      0.00      0.00        11\n",
            "           5       0.00      0.00      0.00         6\n",
            "\n",
            "    accuracy                           0.98      2000\n",
            "   macro avg       0.59      0.49      0.53      2000\n",
            "weighted avg       0.97      0.98      0.98      2000\n",
            "\n",
            "\u001b[1m--------------------------------------------------------\u001b[0m\n"
          ]
        },
        {
          "name": "stderr",
          "output_type": "stream",
          "text": [
            "c:\\Users\\pedro\\Downloads\\ML\\predictive-maintenance-ML-main\\.venv\\Lib\\site-packages\\sklearn\\metrics\\_classification.py:1531: UndefinedMetricWarning: Precision is ill-defined and being set to 0.0 in labels with no predicted samples. Use `zero_division` parameter to control this behavior.\n",
            "  _warn_prf(average, modifier, f\"{metric.capitalize()} is\", len(result))\n",
            "c:\\Users\\pedro\\Downloads\\ML\\predictive-maintenance-ML-main\\.venv\\Lib\\site-packages\\sklearn\\metrics\\_classification.py:1531: UndefinedMetricWarning: Precision is ill-defined and being set to 0.0 in labels with no predicted samples. Use `zero_division` parameter to control this behavior.\n",
            "  _warn_prf(average, modifier, f\"{metric.capitalize()} is\", len(result))\n",
            "c:\\Users\\pedro\\Downloads\\ML\\predictive-maintenance-ML-main\\.venv\\Lib\\site-packages\\sklearn\\metrics\\_classification.py:1531: UndefinedMetricWarning: Precision is ill-defined and being set to 0.0 in labels with no predicted samples. Use `zero_division` parameter to control this behavior.\n",
            "  _warn_prf(average, modifier, f\"{metric.capitalize()} is\", len(result))\n"
          ]
        }
      ],
      "source": [
        "# Random Forest\n",
        "from sklearn.ensemble import RandomForestClassifier\n",
        "random_forest = RandomForestClassifier(n_estimators=100)\n",
        "random_forest.fit(X_train, y_train)\n",
        "y_pred_rf = random_forest.predict(X_test)\n",
        "random_forest.score(X_train, y_train)\n",
        "\n",
        "random_forest_train = round(random_forest.score(X_train, y_train) * 100, 2)\n",
        "random_forest_accuracy = round(accuracy_score(y_pred_rf, y_test) * 100, 2)\n",
        "\n",
        "print(\"Training Accuracy    :\",random_forest_train ,\"%\")\n",
        "print(\"Model Accuracy Score :\",random_forest_accuracy ,\"%\")\n",
        "print(\"\\033[1m--------------------------------------------------------\\033[0m\")\n",
        "print(\"Classification_Report: \\n\",classification_report(y_test,y_pred_rf))\n",
        "print(\"\\033[1m--------------------------------------------------------\\033[0m\")"
      ]
    },
    {
      "cell_type": "code",
      "execution_count": 31,
      "metadata": {
        "colab": {
          "base_uri": "https://localhost:8080/"
        },
        "id": "EbuFDGN2gzKK",
        "outputId": "580231a5-2552-4d6a-9ec1-8e4c8119815c"
      },
      "outputs": [
        {
          "name": "stdout",
          "output_type": "stream",
          "text": [
            "Training Accuracy    : 96.58 %\n",
            "Model Accuracy Score : 96.85 %\n",
            "\u001b[1m--------------------------------------------------------\u001b[0m\n",
            "Classification_Report: \n",
            "               precision    recall  f1-score   support\n",
            "\n",
            "           0       0.97      1.00      0.98      1935\n",
            "           1       0.00      0.00      0.00        15\n",
            "           2       0.75      0.15      0.25        20\n",
            "           3       0.00      0.00      0.00        13\n",
            "           4       0.00      0.00      0.00        11\n",
            "           5       0.00      0.00      0.00         6\n",
            "\n",
            "    accuracy                           0.97      2000\n",
            "   macro avg       0.29      0.19      0.21      2000\n",
            "weighted avg       0.94      0.97      0.95      2000\n",
            "\n",
            "\u001b[1m--------------------------------------------------------\u001b[0m\n"
          ]
        },
        {
          "name": "stderr",
          "output_type": "stream",
          "text": [
            "c:\\Users\\pedro\\Downloads\\ML\\predictive-maintenance-ML-main\\.venv\\Lib\\site-packages\\sklearn\\metrics\\_classification.py:1531: UndefinedMetricWarning: Precision is ill-defined and being set to 0.0 in labels with no predicted samples. Use `zero_division` parameter to control this behavior.\n",
            "  _warn_prf(average, modifier, f\"{metric.capitalize()} is\", len(result))\n",
            "c:\\Users\\pedro\\Downloads\\ML\\predictive-maintenance-ML-main\\.venv\\Lib\\site-packages\\sklearn\\metrics\\_classification.py:1531: UndefinedMetricWarning: Precision is ill-defined and being set to 0.0 in labels with no predicted samples. Use `zero_division` parameter to control this behavior.\n",
            "  _warn_prf(average, modifier, f\"{metric.capitalize()} is\", len(result))\n",
            "c:\\Users\\pedro\\Downloads\\ML\\predictive-maintenance-ML-main\\.venv\\Lib\\site-packages\\sklearn\\metrics\\_classification.py:1531: UndefinedMetricWarning: Precision is ill-defined and being set to 0.0 in labels with no predicted samples. Use `zero_division` parameter to control this behavior.\n",
            "  _warn_prf(average, modifier, f\"{metric.capitalize()} is\", len(result))\n"
          ]
        }
      ],
      "source": [
        "# Support Vector Machines\n",
        "from sklearn.svm import SVC\n",
        "svc = SVC()\n",
        "svc.fit(X_train, y_train)\n",
        "y_pred_svc = svc.predict(X_test)\n",
        "\n",
        "svc_train = round(svc.score(X_train, y_train) * 100, 2)\n",
        "svc_accuracy = round(accuracy_score(y_pred_svc, y_test) * 100, 2)\n",
        "\n",
        "print(\"Training Accuracy    :\",svc_train ,\"%\")\n",
        "print(\"Model Accuracy Score :\",svc_accuracy ,\"%\")\n",
        "print(\"\\033[1m--------------------------------------------------------\\033[0m\")\n",
        "print(\"Classification_Report: \\n\",classification_report(y_test,y_pred_svc))\n",
        "print(\"\\033[1m--------------------------------------------------------\\033[0m\")"
      ]
    },
    {
      "cell_type": "markdown",
      "metadata": {
        "id": "u0cYmlFZC7gk"
      },
      "source": [
        "##Random Forest is having 99.99% acc and 98% prec. So lets use that here"
      ]
    },
    {
      "cell_type": "code",
      "execution_count": 32,
      "metadata": {
        "id": "BLHhEDbah0Ul"
      },
      "outputs": [],
      "source": [
        "import pickle\n",
        "pickle.dump(random_forest,open('model.pkl','wb'))\n"
      ]
    },
    {
      "cell_type": "code",
      "execution_count": 33,
      "metadata": {
        "colab": {
          "base_uri": "https://localhost:8080/"
        },
        "id": "x7NSRdSbEdZH",
        "outputId": "a57f25cb-ffcf-47a5-86f0-b0fd820161fa"
      },
      "outputs": [
        {
          "data": {
            "text/plain": [
              "['model.joblib']"
            ]
          },
          "execution_count": 33,
          "metadata": {},
          "output_type": "execute_result"
        }
      ],
      "source": [
        "import joblib\n",
        "\n",
        "# Assuming you have 'random_forest' as your trained model\n",
        "joblib.dump(random_forest, 'model.joblib')"
      ]
    },
    {
      "cell_type": "code",
      "execution_count": 34,
      "metadata": {
        "colab": {
          "base_uri": "https://localhost:8080/"
        },
        "id": "hMFESy5EDsdX",
        "outputId": "dd1801f4-289d-40fd-f862-d3388b84d474"
      },
      "outputs": [
        {
          "data": {
            "text/plain": [
              "['UDI',\n",
              " 'Product ID',\n",
              " 'Type',\n",
              " 'Frequency PickUp',\n",
              " 'Pressure',\n",
              " 'Rotational speed [rpm]',\n",
              " 'Gear',\n",
              " 'Voltage PickUp',\n",
              " 'Target',\n",
              " 'Failure Type']"
            ]
          },
          "execution_count": 34,
          "metadata": {},
          "output_type": "execute_result"
        }
      ],
      "source": [
        "columns = df.columns.tolist()\n",
        "columns"
      ]
    },
    {
      "cell_type": "code",
      "execution_count": null,
      "metadata": {
        "id": "0WnvwXMbFZiI"
      },
      "outputs": [],
      "source": []
    }
  ],
  "metadata": {
    "colab": {
      "provenance": []
    },
    "kernelspec": {
      "display_name": ".venv",
      "language": "python",
      "name": "python3"
    },
    "language_info": {
      "codemirror_mode": {
        "name": "ipython",
        "version": 3
      },
      "file_extension": ".py",
      "mimetype": "text/x-python",
      "name": "python",
      "nbconvert_exporter": "python",
      "pygments_lexer": "ipython3",
      "version": "3.12.5"
    }
  },
  "nbformat": 4,
  "nbformat_minor": 0
}
